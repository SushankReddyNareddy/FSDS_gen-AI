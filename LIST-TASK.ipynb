{
 "cells": [
  {
   "cell_type": "markdown",
   "id": "bd7f55f0-804a-4683-9cc1-4987ae4fa048",
   "metadata": {},
   "source": [
    "# LIST"
   ]
  },
  {
   "cell_type": "code",
   "execution_count": 4,
   "id": "883b73e9-ec8c-4b94-a86f-96fcf56486d6",
   "metadata": {},
   "outputs": [
    {
     "data": {
      "text/plain": [
       "[]"
      ]
     },
     "execution_count": 4,
     "metadata": {},
     "output_type": "execute_result"
    }
   ],
   "source": [
    "list1=[] # Empty list\n",
    "list1"
   ]
  },
  {
   "cell_type": "code",
   "execution_count": 5,
   "id": "9af84bdd-e6d2-4b1a-b880-53914ac2dc57",
   "metadata": {},
   "outputs": [
    {
     "data": {
      "text/plain": [
       "list"
      ]
     },
     "execution_count": 5,
     "metadata": {},
     "output_type": "execute_result"
    }
   ],
   "source": [
    "type(list1)\n"
   ]
  },
  {
   "cell_type": "code",
   "execution_count": 6,
   "id": "ad6230f5-2f47-4816-a482-ac537883cbe7",
   "metadata": {},
   "outputs": [],
   "source": [
    "list2=[10,20,60] # List of integers numbers"
   ]
  },
  {
   "cell_type": "code",
   "execution_count": 7,
   "id": "a5d70c1b-f412-484f-ae0d-6097c3ea6786",
   "metadata": {},
   "outputs": [],
   "source": [
    "list3=[10.77,30.66,60.89] # float numbers"
   ]
  },
  {
   "cell_type": "code",
   "execution_count": 9,
   "id": "38d24ad0-640c-4bbd-9c7e-48819a12d983",
   "metadata": {},
   "outputs": [],
   "source": [
    "list4=['one','two','three'] # list of strings"
   ]
  },
  {
   "cell_type": "code",
   "execution_count": 11,
   "id": "0c0a934d-65c7-4abd-90b4-95f914e87f5c",
   "metadata": {},
   "outputs": [],
   "source": [
    "list5=['sushank',25,[50,100],[150,90]] # nested list\n"
   ]
  },
  {
   "cell_type": "code",
   "execution_count": 12,
   "id": "8560acfa-2573-4b01-9f2e-52e1b1adc69b",
   "metadata": {},
   "outputs": [],
   "source": [
    "list6=[100,'sushank',17.65] # list of mixed data types"
   ]
  },
  {
   "cell_type": "code",
   "execution_count": 13,
   "id": "1f4a7973-9055-4771-9958-6b2ed6a41e70",
   "metadata": {},
   "outputs": [],
   "source": [
    "list7=['sushank',25,[50,100],[150,90], {'john','david'}]"
   ]
  },
  {
   "cell_type": "code",
   "execution_count": 15,
   "id": "65ca4fcc-b85c-4f44-a5b6-f282c12fb496",
   "metadata": {},
   "outputs": [
    {
     "data": {
      "text/plain": [
       "3"
      ]
     },
     "execution_count": 15,
     "metadata": {},
     "output_type": "execute_result"
    }
   ],
   "source": [
    " len(list6) # LENGTH OF THE LIST"
   ]
  },
  {
   "cell_type": "markdown",
   "id": "9a98241e-843b-4576-a119-77c44ef21ec4",
   "metadata": {},
   "source": [
    "# LIST INDEXNG"
   ]
  },
  {
   "cell_type": "code",
   "execution_count": 16,
   "id": "27058dcd-49b2-43c3-9f59-538ce8696dd7",
   "metadata": {},
   "outputs": [
    {
     "data": {
      "text/plain": [
       "10"
      ]
     },
     "execution_count": 16,
     "metadata": {},
     "output_type": "execute_result"
    }
   ],
   "source": [
    "list2[0] # Retrieve first element of the list"
   ]
  },
  {
   "cell_type": "code",
   "execution_count": 17,
   "id": "1d7f038e-a599-40b4-adaf-c0ffd4ffb49e",
   "metadata": {},
   "outputs": [
    {
     "data": {
      "text/plain": [
       "'one'"
      ]
     },
     "execution_count": 17,
     "metadata": {},
     "output_type": "execute_result"
    }
   ],
   "source": [
    "list4[0]"
   ]
  },
  {
   "cell_type": "code",
   "execution_count": 18,
   "id": "547af895-70c0-4315-ab79-2fb9707efbd7",
   "metadata": {},
   "outputs": [
    {
     "data": {
      "text/plain": [
       "'o'"
      ]
     },
     "execution_count": 18,
     "metadata": {},
     "output_type": "execute_result"
    }
   ],
   "source": [
    "list4[0][0] # nested indexing"
   ]
  },
  {
   "cell_type": "code",
   "execution_count": 19,
   "id": "52ef7450-32e9-420f-9f43-8e3b3f34c81b",
   "metadata": {},
   "outputs": [
    {
     "data": {
      "text/plain": [
       "'three'"
      ]
     },
     "execution_count": 19,
     "metadata": {},
     "output_type": "execute_result"
    }
   ],
   "source": [
    "list4[-1] # last item of the list"
   ]
  },
  {
   "cell_type": "code",
   "execution_count": 20,
   "id": "99d0ffe0-adc6-458e-957f-0b7be3bb1ff8",
   "metadata": {},
   "outputs": [
    {
     "data": {
      "text/plain": [
       "[150, 90]"
      ]
     },
     "execution_count": 20,
     "metadata": {},
     "output_type": "execute_result"
    }
   ],
   "source": [
    "list5[-1]"
   ]
  },
  {
   "cell_type": "markdown",
   "id": "c10ab8e3-dd47-4396-9b8f-d73f5bffd4ea",
   "metadata": {},
   "source": [
    "# LIST SLICING"
   ]
  },
  {
   "cell_type": "code",
   "execution_count": 21,
   "id": "332eb252-7885-464c-b657-af5fd72d532f",
   "metadata": {},
   "outputs": [],
   "source": [
    "mylist=['one','two','three','four','five','six','seven','eight']"
   ]
  },
  {
   "cell_type": "code",
   "execution_count": 23,
   "id": "b9f51549-b99e-4764-b2f5-1f699f6c9254",
   "metadata": {},
   "outputs": [
    {
     "data": {
      "text/plain": [
       "['one', 'two', 'three']"
      ]
     },
     "execution_count": 23,
     "metadata": {},
     "output_type": "execute_result"
    }
   ],
   "source": [
    "mylist[0:3] # return all the index from 0th to 3rd index location excluding the item"
   ]
  },
  {
   "cell_type": "code",
   "execution_count": 24,
   "id": "d979b5e2-80e2-4610-b117-aa0ff80ff28b",
   "metadata": {},
   "outputs": [
    {
     "data": {
      "text/plain": [
       "['three', 'four', 'five']"
      ]
     },
     "execution_count": 24,
     "metadata": {},
     "output_type": "execute_result"
    }
   ],
   "source": [
    "mylist[2:5]"
   ]
  },
  {
   "cell_type": "code",
   "execution_count": 26,
   "id": "e1802efc-a23a-4beb-9868-6df10010cacf",
   "metadata": {},
   "outputs": [
    {
     "data": {
      "text/plain": [
       "['one', 'two', 'three']"
      ]
     },
     "execution_count": 26,
     "metadata": {},
     "output_type": "execute_result"
    }
   ],
   "source": [
    "mylist[:3] # return first three items"
   ]
  },
  {
   "cell_type": "code",
   "execution_count": 28,
   "id": "33bfcd1d-4394-4f85-b2a1-f1e714a1803c",
   "metadata": {},
   "outputs": [
    {
     "data": {
      "text/plain": [
       "['one', 'two', 'three', 'four', 'five']"
      ]
     },
     "execution_count": 28,
     "metadata": {},
     "output_type": "execute_result"
    }
   ],
   "source": [
    "mylist[:-3]"
   ]
  },
  {
   "cell_type": "code",
   "execution_count": 36,
   "id": "f34676ca-350e-467e-b871-fa8391ad94a0",
   "metadata": {},
   "outputs": [
    {
     "data": {
      "text/plain": [
       "['one', 'two', 'three', 'four', 'five', 'six', 'seven']"
      ]
     },
     "execution_count": 36,
     "metadata": {},
     "output_type": "execute_result"
    }
   ],
   "source": [
    "mylist[:-1]"
   ]
  },
  {
   "cell_type": "code",
   "execution_count": 27,
   "id": "cade0dd9-6f42-4f9d-8dee-2293bcadbc1d",
   "metadata": {},
   "outputs": [
    {
     "data": {
      "text/plain": [
       "['one', 'two']"
      ]
     },
     "execution_count": 27,
     "metadata": {},
     "output_type": "execute_result"
    }
   ],
   "source": [
    "mylist[:2]"
   ]
  },
  {
   "cell_type": "code",
   "execution_count": 30,
   "id": "4f310ab1-d7b3-4c63-a063-a86c0d590a8b",
   "metadata": {},
   "outputs": [
    {
     "data": {
      "text/plain": [
       "['six', 'seven', 'eight']"
      ]
     },
     "execution_count": 30,
     "metadata": {},
     "output_type": "execute_result"
    }
   ],
   "source": [
    "mylist[-3:] # return last three items"
   ]
  },
  {
   "cell_type": "code",
   "execution_count": 31,
   "id": "98a8c077-91ac-47c7-a728-fc1bceb23645",
   "metadata": {},
   "outputs": [
    {
     "data": {
      "text/plain": [
       "['seven', 'eight']"
      ]
     },
     "execution_count": 31,
     "metadata": {},
     "output_type": "execute_result"
    }
   ],
   "source": [
    "mylist[-2:]"
   ]
  },
  {
   "cell_type": "code",
   "execution_count": 33,
   "id": "831ae70b-f231-490d-b16f-f12e56430d65",
   "metadata": {},
   "outputs": [
    {
     "data": {
      "text/plain": [
       "'eight'"
      ]
     },
     "execution_count": 33,
     "metadata": {},
     "output_type": "execute_result"
    }
   ],
   "source": [
    "mylist[-1] # last item"
   ]
  },
  {
   "cell_type": "code",
   "execution_count": 35,
   "id": "a480daf7-455a-41c7-bbc7-4e382d2acd7f",
   "metadata": {},
   "outputs": [
    {
     "data": {
      "text/plain": [
       "['one', 'two', 'three', 'four', 'five', 'six', 'seven', 'eight']"
      ]
     },
     "execution_count": 35,
     "metadata": {},
     "output_type": "execute_result"
    }
   ],
   "source": [
    "mylist[:] # return whole list"
   ]
  },
  {
   "cell_type": "markdown",
   "id": "1fa1dc27-d03a-4627-a0c9-dbe16d755ccf",
   "metadata": {},
   "source": [
    "# ADD , REMOVE & CHANGE ITEMS"
   ]
  },
  {
   "cell_type": "code",
   "execution_count": 48,
   "id": "c3eada7d-32c1-484d-b051-c3833b4e650d",
   "metadata": {},
   "outputs": [
    {
     "data": {
      "text/plain": [
       "['one', 'two', 'three', 'four', 'five', 'six', 'seven', 'eight']"
      ]
     },
     "execution_count": 48,
     "metadata": {},
     "output_type": "execute_result"
    }
   ],
   "source": [
    "mylist=['one','two','three','four','five','six','seven','eight']\n",
    "mylist"
   ]
  },
  {
   "cell_type": "code",
   "execution_count": 49,
   "id": "22f5a85e-e6d8-4c85-8221-6f21cdf0f347",
   "metadata": {},
   "outputs": [
    {
     "data": {
      "text/plain": [
       "['one', 'two', 'three', 'four', 'five', 'six', 'seven', 'eight', 'nine']"
      ]
     },
     "execution_count": 49,
     "metadata": {},
     "output_type": "execute_result"
    }
   ],
   "source": [
    "mylist.append('nine') # add value at the end\n",
    "mylist"
   ]
  },
  {
   "cell_type": "code",
   "execution_count": 50,
   "id": "1984ae9d-4255-4da1-9d5b-060de25100da",
   "metadata": {},
   "outputs": [
    {
     "data": {
      "text/plain": [
       "['one', 'two', 'three', 'four', 'five', 'six', 'seven', 'eight', 'nine', 'ten']"
      ]
     },
     "execution_count": 50,
     "metadata": {},
     "output_type": "execute_result"
    }
   ],
   "source": [
    "mylist.insert(9,'ten') # add an item at index location 9 \n",
    "mylist"
   ]
  },
  {
   "cell_type": "code",
   "execution_count": 60,
   "id": "930b1de4-d4be-4b8f-b250-ef3e7754528a",
   "metadata": {},
   "outputs": [
    {
     "data": {
      "text/plain": [
       "['one',\n",
       " 'ONE',\n",
       " 'two',\n",
       " 'three',\n",
       " 'four',\n",
       " 'five',\n",
       " 'six',\n",
       " 'seven',\n",
       " 'eight',\n",
       " 'nine',\n",
       " 'ten']"
      ]
     },
     "execution_count": 60,
     "metadata": {},
     "output_type": "execute_result"
    }
   ],
   "source": [
    "mylist.insert(1,'ONE')\n",
    "mylist"
   ]
  },
  {
   "cell_type": "code",
   "execution_count": 61,
   "id": "1ae9fdcb-918b-46d7-912b-d9264befaa1e",
   "metadata": {},
   "outputs": [
    {
     "data": {
      "text/plain": [
       "['one', 'two', 'three', 'four', 'five', 'six', 'seven', 'eight', 'nine', 'ten']"
      ]
     },
     "execution_count": 61,
     "metadata": {},
     "output_type": "execute_result"
    }
   ],
   "source": [
    "mylist.remove('ONE') # Remove item 'ONE'\n",
    "mylist"
   ]
  },
  {
   "cell_type": "code",
   "execution_count": 62,
   "id": "23f4cb95-8b3a-47cb-94c8-0a74aea4ca31",
   "metadata": {},
   "outputs": [
    {
     "data": {
      "text/plain": [
       "'ten'"
      ]
     },
     "execution_count": 62,
     "metadata": {},
     "output_type": "execute_result"
    }
   ],
   "source": [
    "mylist.pop() # remove last item of the list"
   ]
  },
  {
   "cell_type": "code",
   "execution_count": 63,
   "id": "4b0c8818-2199-4bc7-bce2-303188b4ebde",
   "metadata": {},
   "outputs": [
    {
     "data": {
      "text/plain": [
       "'nine'"
      ]
     },
     "execution_count": 63,
     "metadata": {},
     "output_type": "execute_result"
    }
   ],
   "source": [
    "mylist.pop(8) # remove item at index location 8"
   ]
  },
  {
   "cell_type": "code",
   "execution_count": 64,
   "id": "e6dac722-a9d1-4170-a084-6d5df4e09e3d",
   "metadata": {},
   "outputs": [],
   "source": [
    "del mylist[7] # remove an item at index location 7"
   ]
  },
  {
   "cell_type": "code",
   "execution_count": 65,
   "id": "037aaf3d-07bd-48e5-a922-6dd54b5dad23",
   "metadata": {},
   "outputs": [
    {
     "data": {
      "text/plain": [
       "['one', 'two', 'three', 'four', 'five', 'six', 'seven']"
      ]
     },
     "execution_count": 65,
     "metadata": {},
     "output_type": "execute_result"
    }
   ],
   "source": [
    "mylist"
   ]
  },
  {
   "cell_type": "code",
   "execution_count": 66,
   "id": "d9fbb4dd-ae85-423a-9b05-1a975606a2ae",
   "metadata": {},
   "outputs": [
    {
     "data": {
      "text/plain": [
       "[1, 2, 3, 'four', 'five', 'six', 'seven']"
      ]
     },
     "execution_count": 66,
     "metadata": {},
     "output_type": "execute_result"
    }
   ],
   "source": [
    "# Change value of a string\n",
    "mylist[0]=1\n",
    "mylist[1]=2\n",
    "mylist[2]=3\n",
    "mylist"
   ]
  },
  {
   "cell_type": "code",
   "execution_count": 69,
   "id": "fefac5b4-89d7-4267-96ff-d8f28a0b49a0",
   "metadata": {},
   "outputs": [
    {
     "data": {
      "text/plain": [
       "[]"
      ]
     },
     "execution_count": 69,
     "metadata": {},
     "output_type": "execute_result"
    }
   ],
   "source": [
    "mylist.clear() # empty list/ delete all items from the list\n",
    "mylist"
   ]
  },
  {
   "cell_type": "markdown",
   "id": "c6f1eda6-cae0-437f-9154-8b02cc9f2eb3",
   "metadata": {},
   "source": [
    "# COPY LIST"
   ]
  },
  {
   "cell_type": "code",
   "execution_count": 70,
   "id": "4e410324-ecc9-4a1a-a05a-e0e6bcdf2874",
   "metadata": {},
   "outputs": [
    {
     "data": {
      "text/plain": [
       "['one', 'two', 'three', 'four', 'five', 'six', 'seven', 'eight']"
      ]
     },
     "execution_count": 70,
     "metadata": {},
     "output_type": "execute_result"
    }
   ],
   "source": [
    "mylist=['one','two','three','four','five','six','seven','eight']\n",
    "mylist"
   ]
  },
  {
   "cell_type": "code",
   "execution_count": 72,
   "id": "3aacbd4c-d536-44c6-8d48-0cbcf7706392",
   "metadata": {},
   "outputs": [
    {
     "data": {
      "text/plain": [
       "['one', 'two', 'three', 'four', 'five', 'six', 'seven', 'eight']"
      ]
     },
     "execution_count": 72,
     "metadata": {},
     "output_type": "execute_result"
    }
   ],
   "source": [
    "mylist1=mylist # copy the list to list1\n",
    "mylist1"
   ]
  },
  {
   "cell_type": "code",
   "execution_count": 74,
   "id": "2f0a6024-39f8-45ea-b1b0-8b82c5649cef",
   "metadata": {},
   "outputs": [
    {
     "data": {
      "text/plain": [
       "(2225496645504, 2225496645504)"
      ]
     },
     "execution_count": 74,
     "metadata": {},
     "output_type": "execute_result"
    }
   ],
   "source": [
    "id(mylist),id(mylist1) # the address of both list are same"
   ]
  },
  {
   "cell_type": "code",
   "execution_count": 76,
   "id": "4db6726d-de62-47d5-bcfc-7e324260206d",
   "metadata": {},
   "outputs": [
    {
     "data": {
      "text/plain": [
       "['one', 'two', 'three', 'four', 'five', 'six', 'seven', 'eight']"
      ]
     },
     "execution_count": 76,
     "metadata": {},
     "output_type": "execute_result"
    }
   ],
   "source": [
    "mylist2=mylist.copy() # create a copy of the list\n",
    "mylist2"
   ]
  },
  {
   "cell_type": "code",
   "execution_count": 77,
   "id": "80a63385-ebc4-4278-ae57-4e6af714e6fb",
   "metadata": {},
   "outputs": [
    {
     "data": {
      "text/plain": [
       "2225496684544"
      ]
     },
     "execution_count": 77,
     "metadata": {},
     "output_type": "execute_result"
    }
   ],
   "source": [
    "id(mylist2) # id will be different"
   ]
  },
  {
   "cell_type": "code",
   "execution_count": 78,
   "id": "62e4f4a1-3703-477f-8bcb-1d3263a1fbf7",
   "metadata": {},
   "outputs": [
    {
     "data": {
      "text/plain": [
       "[1, 'two', 'three', 'four', 'five', 'six', 'seven', 'eight']"
      ]
     },
     "execution_count": 78,
     "metadata": {},
     "output_type": "execute_result"
    }
   ],
   "source": [
    "mylist[0]=1\n",
    "mylist"
   ]
  },
  {
   "cell_type": "code",
   "execution_count": 79,
   "id": "cf29f6db-1a85-402b-ba79-5a31eb6f9e5d",
   "metadata": {},
   "outputs": [
    {
     "data": {
      "text/plain": [
       "[1, 'two', 'three', 'four', 'five', 'six', 'seven', 'eight']"
      ]
     },
     "execution_count": 79,
     "metadata": {},
     "output_type": "execute_result"
    }
   ],
   "source": [
    "mylist1 # my list1 is also impacted as it is pointing to same list"
   ]
  },
  {
   "cell_type": "code",
   "execution_count": 80,
   "id": "639b2295-bb8b-4da8-aa88-e89bd21de5f0",
   "metadata": {},
   "outputs": [
    {
     "data": {
      "text/plain": [
       "['one', 'two', 'three', 'four', 'five', 'six', 'seven', 'eight']"
      ]
     },
     "execution_count": 80,
     "metadata": {},
     "output_type": "execute_result"
    }
   ],
   "source": [
    "mylist2 # copy of list won't be impacted due o changes made on the original list"
   ]
  },
  {
   "cell_type": "markdown",
   "id": "3aea0a19-3b51-498d-8442-0aec22996155",
   "metadata": {},
   "source": [
    "# JOIN LIST"
   ]
  },
  {
   "cell_type": "code",
   "execution_count": 81,
   "id": "698fdcab-eeb1-4631-a80d-33c9429bca4a",
   "metadata": {},
   "outputs": [
    {
     "data": {
      "text/plain": [
       "['one', 'two', 'three', 'four', 'five', 'six', 'seven', 'eight']"
      ]
     },
     "execution_count": 81,
     "metadata": {},
     "output_type": "execute_result"
    }
   ],
   "source": [
    "list1=['one','two','three','four']\n",
    "list2=['five','six','seven','eight']\n",
    "list3= list1 + list2 # Join two list by '+' operator \n",
    "list3"
   ]
  },
  {
   "cell_type": "code",
   "execution_count": 83,
   "id": "8830f0bb-4c7b-49f2-b3a4-0ac6c9a7b9d6",
   "metadata": {},
   "outputs": [
    {
     "data": {
      "text/plain": [
       "['one',\n",
       " 'two',\n",
       " 'three',\n",
       " 'four',\n",
       " 'five',\n",
       " 'six',\n",
       " 'seven',\n",
       " 'eight',\n",
       " 'five',\n",
       " 'six',\n",
       " 'seven',\n",
       " 'eight']"
      ]
     },
     "execution_count": 83,
     "metadata": {},
     "output_type": "execute_result"
    }
   ],
   "source": [
    "list1.extend(list2) # append list2 with list1\n",
    "list1"
   ]
  },
  {
   "cell_type": "markdown",
   "id": "dcd31a13-fe40-4a70-b4ec-66c613375204",
   "metadata": {},
   "source": [
    "# LIST MEMBERSHIP"
   ]
  },
  {
   "cell_type": "code",
   "execution_count": 85,
   "id": "5e8aea76-82f7-4d44-9ff1-7634ee680e1d",
   "metadata": {},
   "outputs": [
    {
     "data": {
      "text/plain": [
       "['one', 'two', 'three', 'four', 'five', 'six', 'seven', 'eight']"
      ]
     },
     "execution_count": 85,
     "metadata": {},
     "output_type": "execute_result"
    }
   ],
   "source": [
    "list1=['one', 'two', 'three', 'four', 'five', 'six', 'seven', 'eight']\n",
    "list1\n",
    "\n"
   ]
  },
  {
   "cell_type": "code",
   "execution_count": 86,
   "id": "84c12eed-c701-4ac5-a5b1-11beec270506",
   "metadata": {},
   "outputs": [
    {
     "data": {
      "text/plain": [
       "True"
      ]
     },
     "execution_count": 86,
     "metadata": {},
     "output_type": "execute_result"
    }
   ],
   "source": [
    "'one' in list1 # check 'one' in list1"
   ]
  },
  {
   "cell_type": "code",
   "execution_count": 87,
   "id": "2efe1c34-3213-4a71-8d96-85b404d4bb3c",
   "metadata": {},
   "outputs": [
    {
     "data": {
      "text/plain": [
       "False"
      ]
     },
     "execution_count": 87,
     "metadata": {},
     "output_type": "execute_result"
    }
   ],
   "source": [
    "'ten' in list1"
   ]
  },
  {
   "cell_type": "code",
   "execution_count": 89,
   "id": "d7010044-c10f-4e21-95db-af310d32c332",
   "metadata": {},
   "outputs": [
    {
     "name": "stdout",
     "output_type": "stream",
     "text": [
      " three is present in list1\n"
     ]
    }
   ],
   "source": [
    "if 'three' in list1: # check if 'three' exists in the list\n",
    "    print(\" three is present in list1\")\n",
    "else:\n",
    "    print(\"not present\")"
   ]
  },
  {
   "cell_type": "code",
   "execution_count": 90,
   "id": "4615eec4-f94c-489a-b16b-503bfe6aba44",
   "metadata": {},
   "outputs": [
    {
     "name": "stdout",
     "output_type": "stream",
     "text": [
      "not present\n"
     ]
    }
   ],
   "source": [
    "if 'eleven' in list1:\n",
    "    print('present')\n",
    "else:\n",
    "    print('not present')"
   ]
  },
  {
   "cell_type": "markdown",
   "id": "4c4bbdaf-eb9c-415d-a819-266df769d22d",
   "metadata": {},
   "source": [
    "# REVERSE and SORT LIST"
   ]
  },
  {
   "cell_type": "code",
   "execution_count": 91,
   "id": "145d5e39-10d3-41b7-8b9e-563de5a63009",
   "metadata": {},
   "outputs": [
    {
     "data": {
      "text/plain": [
       "['one', 'two', 'three', 'four', 'five', 'six', 'seven', 'eight']"
      ]
     },
     "execution_count": 91,
     "metadata": {},
     "output_type": "execute_result"
    }
   ],
   "source": [
    "list1"
   ]
  },
  {
   "cell_type": "code",
   "execution_count": 98,
   "id": "d6f7dab5-2b61-4c3b-84ed-0612cadb8553",
   "metadata": {},
   "outputs": [
    {
     "data": {
      "text/plain": [
       "['eight', 'seven', 'six', 'five', 'four', 'three', 'two', 'one']"
      ]
     },
     "execution_count": 98,
     "metadata": {},
     "output_type": "execute_result"
    }
   ],
   "source": [
    "list1.reverse() # reverse the list\n",
    "list1"
   ]
  },
  {
   "cell_type": "code",
   "execution_count": 97,
   "id": "883eff01-0a0d-4e44-b1c1-b5be55ed8ca2",
   "metadata": {},
   "outputs": [
    {
     "data": {
      "text/plain": [
       "['one', 'two', 'three', 'four', 'five', 'six', 'seven', 'eight']"
      ]
     },
     "execution_count": 97,
     "metadata": {},
     "output_type": "execute_result"
    }
   ],
   "source": [
    "list1= list1[::-1] # Reverse the list\n",
    "list1"
   ]
  },
  {
   "cell_type": "code",
   "execution_count": 99,
   "id": "85e7c044-9035-4346-b29b-9af21afad084",
   "metadata": {},
   "outputs": [
    {
     "data": {
      "text/plain": [
       "[2, 5, 9, 12, 34, 88, 99]"
      ]
     },
     "execution_count": 99,
     "metadata": {},
     "output_type": "execute_result"
    }
   ],
   "source": [
    "mylist3=[9,5,2,99,12,88,34]\n",
    "mylist3.sort() # sort list in ascending order\n",
    "mylist3"
   ]
  },
  {
   "cell_type": "code",
   "execution_count": 100,
   "id": "8c87cb78-2a7a-4cc7-9c87-c16b5d8c15f9",
   "metadata": {},
   "outputs": [
    {
     "data": {
      "text/plain": [
       "[99, 88, 34, 12, 9, 5, 2]"
      ]
     },
     "execution_count": 100,
     "metadata": {},
     "output_type": "execute_result"
    }
   ],
   "source": [
    "mylist3=[9,5,2,99,12,88,34]\n",
    "mylist3.sort(reverse=True) # sort list in descending order\n",
    "mylist3\n"
   ]
  },
  {
   "cell_type": "code",
   "execution_count": 102,
   "id": "542292d1-2db8-41f0-8f98-261ce5e64db3",
   "metadata": {},
   "outputs": [
    {
     "data": {
      "text/plain": [
       "[11, 21, 33, 65, 88, 98]"
      ]
     },
     "execution_count": 102,
     "metadata": {},
     "output_type": "execute_result"
    }
   ],
   "source": [
    "mylist4=[88,65,33,21,11,98]\n",
    "sorted(mylist4)"
   ]
  },
  {
   "cell_type": "code",
   "execution_count": 104,
   "id": "6c7686e9-c155-4a15-b122-7d639b017b8e",
   "metadata": {},
   "outputs": [
    {
     "data": {
      "text/plain": [
       "[98, 88, 65, 33, 21, 11]"
      ]
     },
     "execution_count": 104,
     "metadata": {},
     "output_type": "execute_result"
    }
   ],
   "source": [
    "mylist4.sort(reverse=True)\n",
    "mylist4"
   ]
  },
  {
   "cell_type": "markdown",
   "id": "9d83512f-e99e-4d6a-af4d-8792218bb2b9",
   "metadata": {},
   "source": [
    "# LOOP THROUGH A LIST"
   ]
  },
  {
   "cell_type": "code",
   "execution_count": 108,
   "id": "a21609b6-07c2-43c7-844f-641831da9157",
   "metadata": {},
   "outputs": [
    {
     "data": {
      "text/plain": [
       "['eight', 'seven', 'six', 'five', 'four', 'three', 'two', 'one']"
      ]
     },
     "execution_count": 108,
     "metadata": {},
     "output_type": "execute_result"
    }
   ],
   "source": [
    "list1\n"
   ]
  },
  {
   "cell_type": "code",
   "execution_count": 109,
   "id": "ab5f1d8b-b175-43d7-86c6-59a3c62d72d0",
   "metadata": {},
   "outputs": [
    {
     "name": "stdout",
     "output_type": "stream",
     "text": [
      "eight\n",
      "seven\n",
      "six\n",
      "five\n",
      "four\n",
      "three\n",
      "two\n",
      "one\n"
     ]
    }
   ],
   "source": [
    "for i in list1:\n",
    "    print(i)"
   ]
  },
  {
   "cell_type": "code",
   "execution_count": 110,
   "id": "a95b1b30-c8c5-4440-9d36-9a28b56cfef2",
   "metadata": {},
   "outputs": [
    {
     "name": "stdout",
     "output_type": "stream",
     "text": [
      "(0, 'eight')\n",
      "(1, 'seven')\n",
      "(2, 'six')\n",
      "(3, 'five')\n",
      "(4, 'four')\n",
      "(5, 'three')\n",
      "(6, 'two')\n",
      "(7, 'one')\n"
     ]
    }
   ],
   "source": [
    "for i in enumerate(list1):\n",
    "    print(i)"
   ]
  },
  {
   "cell_type": "code",
   "execution_count": 111,
   "id": "c74c9df7-ac59-4f32-9ae8-750f3c58fb75",
   "metadata": {},
   "outputs": [
    {
     "data": {
      "text/plain": [
       "['eight', 'seven', 'six', 'five', 'four', 'three', 'two', 'one', 'one']"
      ]
     },
     "execution_count": 111,
     "metadata": {},
     "output_type": "execute_result"
    }
   ],
   "source": [
    "list1.append('one')\n",
    "list1"
   ]
  },
  {
   "cell_type": "code",
   "execution_count": 112,
   "id": "f9fc774c-02d9-4e49-ba1d-54eebe2dd370",
   "metadata": {},
   "outputs": [
    {
     "data": {
      "text/plain": [
       "2"
      ]
     },
     "execution_count": 112,
     "metadata": {},
     "output_type": "execute_result"
    }
   ],
   "source": [
    "list1.count('one') # number of times a item as occured"
   ]
  },
  {
   "cell_type": "markdown",
   "id": "1264f4ba-d13d-4d55-847a-1d4ff093c035",
   "metadata": {},
   "source": [
    "# ALL / ANY"
   ]
  },
  {
   "cell_type": "code",
   "execution_count": 113,
   "id": "ef09ba35-9d52-490c-b149-e9fb3dd11d27",
   "metadata": {},
   "outputs": [
    {
     "data": {
      "text/plain": [
       "[1, 2, 3, 4, 5]"
      ]
     },
     "execution_count": 113,
     "metadata": {},
     "output_type": "execute_result"
    }
   ],
   "source": [
    "l1=[1,2,3,4,5]\n",
    "l1"
   ]
  },
  {
   "cell_type": "code",
   "execution_count": 114,
   "id": "b0359928-853f-46f7-b6bb-a21c34b22291",
   "metadata": {},
   "outputs": [
    {
     "data": {
      "text/plain": [
       "True"
      ]
     },
     "execution_count": 114,
     "metadata": {},
     "output_type": "execute_result"
    }
   ],
   "source": [
    "all(l1)"
   ]
  },
  {
   "cell_type": "code",
   "execution_count": 115,
   "id": "3bdb1fb9-cae1-4e99-9b62-4f12cc4691d7",
   "metadata": {},
   "outputs": [
    {
     "data": {
      "text/plain": [
       "False"
      ]
     },
     "execution_count": 115,
     "metadata": {},
     "output_type": "execute_result"
    }
   ],
   "source": [
    "l2=[1,2,3,4,5,0] # will return false as one value\n",
    "all(l2)"
   ]
  }
 ],
 "metadata": {
  "kernelspec": {
   "display_name": "Python [conda env:base] *",
   "language": "python",
   "name": "conda-base-py"
  },
  "language_info": {
   "codemirror_mode": {
    "name": "ipython",
    "version": 3
   },
   "file_extension": ".py",
   "mimetype": "text/x-python",
   "name": "python",
   "nbconvert_exporter": "python",
   "pygments_lexer": "ipython3",
   "version": "3.12.7"
  }
 },
 "nbformat": 4,
 "nbformat_minor": 5
}
