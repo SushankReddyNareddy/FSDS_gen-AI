{
 "cells": [
  {
   "cell_type": "code",
   "execution_count": 1,
   "id": "2c61bba5-6a8f-4c30-b92b-04e0e4123acb",
   "metadata": {},
   "outputs": [
    {
     "data": {
      "text/plain": [
       "32"
      ]
     },
     "execution_count": 1,
     "metadata": {},
     "output_type": "execute_result"
    }
   ],
   "source": [
    "i=32\n",
    "i"
   ]
  },
  {
   "cell_type": "code",
   "execution_count": 2,
   "id": "6428a6bb-fc12-440f-bdc6-ced39749a51d",
   "metadata": {},
   "outputs": [
    {
     "data": {
      "text/plain": [
       "int"
      ]
     },
     "execution_count": 2,
     "metadata": {},
     "output_type": "execute_result"
    }
   ],
   "source": [
    "type(i)"
   ]
  },
  {
   "cell_type": "code",
   "execution_count": 3,
   "id": "f5d870a2-9da8-4167-b5b7-4628acd36c3d",
   "metadata": {},
   "outputs": [
    {
     "data": {
      "text/plain": [
       "110.33"
      ]
     },
     "execution_count": 3,
     "metadata": {},
     "output_type": "execute_result"
    }
   ],
   "source": [
    "f=110.33\n",
    "f"
   ]
  },
  {
   "cell_type": "code",
   "execution_count": 4,
   "id": "d6953a14-3a65-41db-9be8-63b2c8b9bfe2",
   "metadata": {},
   "outputs": [
    {
     "data": {
      "text/plain": [
       "float"
      ]
     },
     "execution_count": 4,
     "metadata": {},
     "output_type": "execute_result"
    }
   ],
   "source": [
    "type(f)\n"
   ]
  },
  {
   "cell_type": "code",
   "execution_count": 5,
   "id": "633bf97a-0045-46f2-b58e-c57ae857162a",
   "metadata": {},
   "outputs": [
    {
     "data": {
      "text/plain": [
       "1.0"
      ]
     },
     "execution_count": 5,
     "metadata": {},
     "output_type": "execute_result"
    }
   ],
   "source": [
    "f1=1e0\n",
    "f1"
   ]
  },
  {
   "cell_type": "code",
   "execution_count": 6,
   "id": "50ce9c4b-16ed-442f-b051-daedafc6ad25",
   "metadata": {},
   "outputs": [
    {
     "data": {
      "text/plain": [
       "100.0"
      ]
     },
     "execution_count": 6,
     "metadata": {},
     "output_type": "execute_result"
    }
   ],
   "source": [
    "f2= 1E2\n",
    "f2"
   ]
  },
  {
   "cell_type": "code",
   "execution_count": 7,
   "id": "22d11c2b-ce6d-4aaa-a464-416d18477ac0",
   "metadata": {},
   "outputs": [
    {
     "data": {
      "text/plain": [
       "(1+2j)"
      ]
     },
     "execution_count": 7,
     "metadata": {},
     "output_type": "execute_result"
    }
   ],
   "source": [
    "c=1+2j\n",
    "c"
   ]
  },
  {
   "cell_type": "code",
   "execution_count": 8,
   "id": "51329d98-c3e3-4f63-a17d-7d234a5db82f",
   "metadata": {},
   "outputs": [
    {
     "data": {
      "text/plain": [
       "1.0"
      ]
     },
     "execution_count": 8,
     "metadata": {},
     "output_type": "execute_result"
    }
   ],
   "source": [
    "c.real"
   ]
  },
  {
   "cell_type": "code",
   "execution_count": 9,
   "id": "8391d317-79bd-42b1-92b9-c77e35e1febc",
   "metadata": {},
   "outputs": [
    {
     "data": {
      "text/plain": [
       "2.0"
      ]
     },
     "execution_count": 9,
     "metadata": {},
     "output_type": "execute_result"
    }
   ],
   "source": [
    "c.imag"
   ]
  },
  {
   "cell_type": "code",
   "execution_count": 1,
   "id": "f703854c-7da4-4a41-be16-bdb7967acfe6",
   "metadata": {},
   "outputs": [
    {
     "data": {
      "text/plain": [
       "10"
      ]
     },
     "execution_count": 1,
     "metadata": {},
     "output_type": "execute_result"
    }
   ],
   "source": [
    "a=10 # here python prints\n",
    "b=20\n",
    "a"
   ]
  },
  {
   "cell_type": "code",
   "execution_count": 4,
   "id": "5dc78f3e-42b2-47fb-8e64-8e16f2ca63ae",
   "metadata": {},
   "outputs": [
    {
     "data": {
      "text/plain": [
       "20"
      ]
     },
     "execution_count": 4,
     "metadata": {},
     "output_type": "execute_result"
    }
   ],
   "source": [
    "a=10 # here python prints what variable we ask at last \n",
    "b=20\n",
    "a\n",
    "b"
   ]
  },
  {
   "cell_type": "code",
   "execution_count": 3,
   "id": "6fc1f5fe-a7b8-41db-950f-6ad2b6525da4",
   "metadata": {},
   "outputs": [
    {
     "name": "stdout",
     "output_type": "stream",
     "text": [
      "10\n",
      "20\n"
     ]
    }
   ],
   "source": [
    "a=10 # here we use print so that it print everything we ask\n",
    "b=20\n",
    "print (a)\n",
    "print (b)"
   ]
  },
  {
   "cell_type": "code",
   "execution_count": 6,
   "id": "b7e29297-8b25-48a2-b2cf-a4e6fdbed359",
   "metadata": {},
   "outputs": [
    {
     "name": "stdout",
     "output_type": "stream",
     "text": [
      "10\n",
      "10 20\n",
      "python\n"
     ]
    }
   ],
   "source": [
    "print (10)\n",
    "print (10,20)\n",
    "print (\"python\")\n"
   ]
  },
  {
   "cell_type": "code",
   "execution_count": 7,
   "id": "f7d07ab3-7ff8-403c-aae6-b866e3029a52",
   "metadata": {},
   "outputs": [
    {
     "name": "stdout",
     "output_type": "stream",
     "text": [
      "150\n"
     ]
    }
   ],
   "source": [
    "num1=100 \n",
    "num2=50\n",
    "add=num1 + num2\n",
    "print(add)"
   ]
  },
  {
   "cell_type": "code",
   "execution_count": 13,
   "id": "a3b1379a-db53-40c7-ad12-9a437ea0f0f0",
   "metadata": {},
   "outputs": [
    {
     "name": "stdout",
     "output_type": "stream",
     "text": [
      "The addition of 20 and 30 is= 50\n"
     ]
    }
   ],
   "source": [
    "# print result with string\n",
    "num1=20\n",
    "num2=30\n",
    "add=num1 + num2\n",
    "print('The addition of', num1, 'and' , num2, 'is=',add)"
   ]
  },
  {
   "cell_type": "code",
   "execution_count": 10,
   "id": "8f7443c8-a486-45bf-9f64-e877f4974467",
   "metadata": {},
   "outputs": [
    {
     "name": "stdout",
     "output_type": "stream",
     "text": [
      "My name is python and i am 20 year old from hyd\n"
     ]
    }
   ],
   "source": [
    "name=\"python\" # print result with string\n",
    "age=20\n",
    "city='hyd'\n",
    "print('My name is', name, 'and i am', age,'year old from', city)\n"
   ]
  },
  {
   "cell_type": "code",
   "execution_count": 12,
   "id": "5b948026-2037-40db-84ce-ccff4ef275da",
   "metadata": {},
   "outputs": [
    {
     "name": "stdout",
     "output_type": "stream",
     "text": [
      "The addition of 20 and 30 is = 50\n"
     ]
    }
   ],
   "source": [
    "#print format method\n",
    "#first decide how the print should be \n",
    "num1=20\n",
    "num2=30\n",
    "add=num1+num2 # next replace the variable position with curly braces{} \n",
    "print('The addition of {} and {} is = {}'.format(num1,num2,add))# then apply .format(val1,val2...)"
   ]
  },
  {
   "cell_type": "code",
   "execution_count": 16,
   "id": "7a23afab-39a8-462c-be39-b408156e7f59",
   "metadata": {},
   "outputs": [
    {
     "name": "stdout",
     "output_type": "stream",
     "text": [
      "My name is python, and i am 20 years old from hyderabad\n"
     ]
    }
   ],
   "source": [
    "name='python'\n",
    "age=20\n",
    "city='hyderabad'\n",
    "print('My name is {}, and i am {} years old from {}'.format(name,age,city))"
   ]
  },
  {
   "cell_type": "code",
   "execution_count": 19,
   "id": "55c40893-a51d-4a75-ad0f-56454540a15c",
   "metadata": {},
   "outputs": [
    {
     "name": "stdout",
     "output_type": "stream",
     "text": [
      "The average of 100,25, 333 is = 152.66666666666666 or 152.67\n"
     ]
    }
   ],
   "source": [
    "num1=100\n",
    "num2=25\n",
    "num3=333\n",
    "avg=(num1+num2+num3)/3 #or we can use avg=round((num1+num2+num3)/3,2)\n",
    "avg1=round((num1+num2+num3)/3,2)\n",
    "#the average of num1,num2,num3 is = avg\n",
    "print('The average of {},{}, {} is = {} or {}'.format(num1,num2,num3,avg,avg1))"
   ]
  },
  {
   "cell_type": "code",
   "execution_count": 20,
   "id": "310ea03c-77a7-4da0-bc97-b2263e84b5f6",
   "metadata": {},
   "outputs": [
    {
     "data": {
      "text/plain": [
       "152.67"
      ]
     },
     "execution_count": 20,
     "metadata": {},
     "output_type": "execute_result"
    }
   ],
   "source": [
    "round(avg,2) #round off till two digits after decimal"
   ]
  },
  {
   "cell_type": "code",
   "execution_count": 22,
   "id": "653089dc-9047-429b-8bf8-b10ca537da39",
   "metadata": {},
   "outputs": [
    {
     "name": "stdout",
     "output_type": "stream",
     "text": [
      "The addition of 20 and 30 is = 50\n"
     ]
    }
   ],
   "source": [
    "# more short format method ( f string method)\n",
    "#variable should be in curly braces\n",
    "#and write everything inside quotes\n",
    "#at starting simply add f\n",
    "num1=20\n",
    "num2=30\n",
    "add=num1+num2\n",
    "print(f'The addition of {num1} and {num2} is = {add}') #always prefer this"
   ]
  },
  {
   "cell_type": "code",
   "execution_count": 25,
   "id": "3de413e0-9157-433d-bfac-36077c79e02e",
   "metadata": {},
   "outputs": [
    {
     "name": "stdout",
     "output_type": "stream",
     "text": [
      "My name is python and I am 20 years old from Hyderabad\n"
     ]
    }
   ],
   "source": [
    "name='python'\n",
    "age=20\n",
    "city='Hyderabad'\n",
    "print(f'My name is {name} and I am {age} years old from {city}')"
   ]
  },
  {
   "cell_type": "code",
   "execution_count": 32,
   "id": "6eb46f31-82f1-4e00-98bb-35afd085eb2e",
   "metadata": {},
   "outputs": [
    {
     "name": "stdout",
     "output_type": "stream",
     "text": [
      "the average of 100,25 and 333 is = 152.67\n"
     ]
    }
   ],
   "source": [
    "num1=100\n",
    "num2=25\n",
    "num3=333\n",
    "average=round((num1+num2+num3)/3,2)\n",
    "print(f'the average of {num1},{num2} and {num3} is = {average}')"
   ]
  },
  {
   "cell_type": "code",
   "execution_count": 35,
   "id": "058d3d2a-e851-41a5-9022-098bece6f283",
   "metadata": {},
   "outputs": [
    {
     "name": "stdout",
     "output_type": "stream",
     "text": [
      "The addition of 10 and 20 is = 30\n",
      "The addition of 10 and 20 is = 30\n",
      "the addition of 10 and 20 is = 30\n"
     ]
    }
   ],
   "source": [
    "# lets combine all methods\n",
    "num1=10\n",
    "num2=20\n",
    "add=num1+num2\n",
    "print('The addition of',num1, 'and',num2, 'is =', add)\n",
    "print('The addition of {} and {} is = {}'.format(num1,num2,add))\n",
    "print(f'the addition of {num1} and {num2} is = {add}')\n"
   ]
  },
  {
   "cell_type": "code",
   "execution_count": 36,
   "id": "82e51a60-0551-4d4e-a34d-69370afb7b77",
   "metadata": {},
   "outputs": [
    {
     "name": "stdout",
     "output_type": "stream",
     "text": [
      "hello\n",
      "good morning\n"
     ]
    }
   ],
   "source": [
    "# end statement\n",
    "print('hello') # first statement\n",
    "print('good morning') # second statement"
   ]
  },
  {
   "cell_type": "code",
   "execution_count": 37,
   "id": "36822939-c8e3-4466-b1ca-45117d6ea769",
   "metadata": {},
   "outputs": [
    {
     "name": "stdout",
     "output_type": "stream",
     "text": [
      "hello world good day\n"
     ]
    }
   ],
   "source": [
    "# here we use end statement that joint line from end of one string to starting of other string\n",
    "print('hello', end=' ') # 1st statement\n",
    "print('world good day') #2nd statement\n"
   ]
  },
  {
   "cell_type": "code",
   "execution_count": 38,
   "id": "911c0bd3-1925-4da3-a9e4-003e7b441ee6",
   "metadata": {},
   "outputs": [
    {
     "name": "stdout",
     "output_type": "stream",
     "text": [
      "hello! i am sriram, and you are?\n"
     ]
    }
   ],
   "source": [
    "print('hello!', end= '')\n",
    "print(\" i am sriram, and you are?\")"
   ]
  },
  {
   "cell_type": "code",
   "execution_count": 39,
   "id": "8bf60e36-0852-4a5d-a2e3-2c172ecd53bd",
   "metadata": {},
   "outputs": [
    {
     "name": "stdout",
     "output_type": "stream",
     "text": [
      "hello--->hai--->how are you\n"
     ]
    }
   ],
   "source": [
    "# seperator\n",
    "# here we use only one print statement, inside one print statement we have multiple values\n",
    "# we need to seperate this multiple values with anything\n",
    "print('hello','hai','how are you',sep='--->')"
   ]
  },
  {
   "cell_type": "code",
   "execution_count": 40,
   "id": "aaff1665-a94c-4bfa-ba29-2ce3b883ddfc",
   "metadata": {},
   "outputs": [
    {
     "name": "stdout",
     "output_type": "stream",
     "text": [
      "max&min&min-max\n"
     ]
    }
   ],
   "source": [
    "print('max','min','min-max',sep='&')"
   ]
  },
  {
   "cell_type": "code",
   "execution_count": 41,
   "id": "1da342d8-f106-4585-89c4-9c9372f75339",
   "metadata": {},
   "outputs": [
    {
     "name": "stdout",
     "output_type": "stream",
     "text": [
      "ramesh@gmail.com\n"
     ]
    }
   ],
   "source": [
    "print('ramesh','gmail.com',sep='@')"
   ]
  },
  {
   "cell_type": "code",
   "execution_count": 43,
   "id": "235a4146-1215-46a0-b52a-630571a4002c",
   "metadata": {},
   "outputs": [
    {
     "name": "stdout",
     "output_type": "stream",
     "text": [
      "hello  i am@22\n"
     ]
    }
   ],
   "source": [
    "# using both end and seperator\n",
    "print('hello', end=' ')\n",
    "print(' i am','22',sep='@')"
   ]
  }
 ],
 "metadata": {
  "kernelspec": {
   "display_name": "Python [conda env:base] *",
   "language": "python",
   "name": "conda-base-py"
  },
  "language_info": {
   "codemirror_mode": {
    "name": "ipython",
    "version": 3
   },
   "file_extension": ".py",
   "mimetype": "text/x-python",
   "name": "python",
   "nbconvert_exporter": "python",
   "pygments_lexer": "ipython3",
   "version": "3.12.7"
  }
 },
 "nbformat": 4,
 "nbformat_minor": 5
}
