{
 "cells": [
  {
   "cell_type": "code",
   "execution_count": 1,
   "id": "26bfb1d8-1517-4edb-bbad-82b15c17c2da",
   "metadata": {},
   "outputs": [
    {
     "data": {
      "text/plain": [
       "'3.12.7 | packaged by Anaconda, Inc. | (main, Oct  4 2024, 13:17:27) [MSC v.1929 64 bit (AMD64)]'"
      ]
     },
     "execution_count": 1,
     "metadata": {},
     "output_type": "execute_result"
    }
   ],
   "source": [
    "import sys\n",
    "sys.version"
   ]
  },
  {
   "cell_type": "markdown",
   "id": "e01a55ec-a2ec-49bf-9dfe-cc4a7de33353",
   "metadata": {},
   "source": [
    "DATA STRUCTURES\n",
    "1.LIST"
   ]
  },
  {
   "cell_type": "raw",
   "id": "9e90e20a-93c4-4aa8-a704-3e1c3c204a9d",
   "metadata": {},
   "source": [
    "l=[]\n",
    "l"
   ]
  },
  {
   "cell_type": "code",
   "execution_count": 4,
   "id": "c9ba0777-da5d-4915-aaac-ed0d6dd0cb7f",
   "metadata": {},
   "outputs": [
    {
     "name": "stdout",
     "output_type": "stream",
     "text": [
      "<class 'list'>\n"
     ]
    }
   ],
   "source": [
    "print(type(l))"
   ]
  },
  {
   "cell_type": "code",
   "execution_count": 6,
   "id": "d7cf4883-6b08-4e36-a9e0-330a0e238acd",
   "metadata": {},
   "outputs": [
    {
     "data": {
      "text/plain": [
       "list"
      ]
     },
     "execution_count": 6,
     "metadata": {},
     "output_type": "execute_result"
    }
   ],
   "source": [
    "type(l)"
   ]
  },
  {
   "cell_type": "code",
   "execution_count": 7,
   "id": "963ef1a3-0b00-476e-93d0-31d5d5f07042",
   "metadata": {},
   "outputs": [
    {
     "data": {
      "text/plain": [
       "0"
      ]
     },
     "execution_count": 7,
     "metadata": {},
     "output_type": "execute_result"
    }
   ],
   "source": [
    "len(l)"
   ]
  },
  {
   "cell_type": "code",
   "execution_count": 14,
   "id": "8c2ff62c-f814-4894-8188-14d5eb149205",
   "metadata": {},
   "outputs": [
    {
     "data": {
      "text/plain": [
       "[10, 10, 10, 10, 10, 10]"
      ]
     },
     "execution_count": 14,
     "metadata": {},
     "output_type": "execute_result"
    }
   ],
   "source": [
    "l.append(10)\n",
    "l"
   ]
  },
  {
   "cell_type": "code",
   "execution_count": 16,
   "id": "6da57179-9947-4f31-a908-cd56f05ad1ea",
   "metadata": {},
   "outputs": [
    {
     "data": {
      "text/plain": [
       "[10, 10, 10, 10, 10, 10, 20, 30, 40, 50, 20, 30, 40, 50]"
      ]
     },
     "execution_count": 16,
     "metadata": {},
     "output_type": "execute_result"
    }
   ],
   "source": [
    "# .append()- it adds values at the end of the list\n",
    "l.append(20) \n",
    "l.append(30)\n",
    "l.append(40)\n",
    "l.append(50)\n",
    "l"
   ]
  },
  {
   "cell_type": "code",
   "execution_count": 20,
   "id": "28539e86-bba2-4c5c-abc5-6f514aeef16e",
   "metadata": {},
   "outputs": [
    {
     "data": {
      "text/plain": [
       "14"
      ]
     },
     "execution_count": 20,
     "metadata": {},
     "output_type": "execute_result"
    }
   ],
   "source": [
    "len(l)"
   ]
  },
  {
   "cell_type": "code",
   "execution_count": 21,
   "id": "f5596550-5b52-4d5a-bf5c-a96479874a59",
   "metadata": {},
   "outputs": [
    {
     "ename": "TypeError",
     "evalue": "list.append() takes exactly one argument (2 given)",
     "output_type": "error",
     "traceback": [
      "\u001b[1;31m---------------------------------------------------------------------------\u001b[0m",
      "\u001b[1;31mTypeError\u001b[0m                                 Traceback (most recent call last)",
      "Cell \u001b[1;32mIn[21], line 1\u001b[0m\n\u001b[1;32m----> 1\u001b[0m l\u001b[38;5;241m.\u001b[39mappend(\u001b[38;5;241m10\u001b[39m,\u001b[38;5;241m20\u001b[39m)\n",
      "\u001b[1;31mTypeError\u001b[0m: list.append() takes exactly one argument (2 given)"
     ]
    }
   ],
   "source": [
    "l.append(10,20) #append takes only one argument"
   ]
  },
  {
   "cell_type": "code",
   "execution_count": 2,
   "id": "0cd52226-078c-4016-9ba1-3a99c388444d",
   "metadata": {},
   "outputs": [
    {
     "ename": "NameError",
     "evalue": "name 'l' is not defined",
     "output_type": "error",
     "traceback": [
      "\u001b[1;31m---------------------------------------------------------------------------\u001b[0m",
      "\u001b[1;31mNameError\u001b[0m                                 Traceback (most recent call last)",
      "Cell \u001b[1;32mIn[2], line 1\u001b[0m\n\u001b[1;32m----> 1\u001b[0m l\u001b[38;5;241m.\u001b[39mappend(\u001b[38;5;241m20\u001b[39m) \u001b[38;5;66;03m# DUPLICATES ARE ALLOWED\u001b[39;00m\n\u001b[0;32m      2\u001b[0m l\n",
      "\u001b[1;31mNameError\u001b[0m: name 'l' is not defined"
     ]
    }
   ],
   "source": [
    "l.append(20) # DUPLICATES ARE ALLOWED\n",
    "l"
   ]
  },
  {
   "cell_type": "code",
   "execution_count": 6,
   "id": "37668599-f194-428a-9aee-4a10f6e0cd05",
   "metadata": {},
   "outputs": [
    {
     "data": {
      "text/plain": [
       "10"
      ]
     },
     "execution_count": 6,
     "metadata": {},
     "output_type": "execute_result"
    }
   ],
   "source": [
    "l=[10,20,30,40,50]\n",
    "l[0]"
   ]
  },
  {
   "cell_type": "code",
   "execution_count": 7,
   "id": "c8301e55-2de6-4a47-9ca6-08bcbe57d3c5",
   "metadata": {},
   "outputs": [
    {
     "data": {
      "text/plain": [
       "[100, 20, 30, 40, 50]"
      ]
     },
     "execution_count": 7,
     "metadata": {},
     "output_type": "execute_result"
    }
   ],
   "source": [
    "l[0]=100 # thia is called mutable\n",
    "l"
   ]
  },
  {
   "cell_type": "code",
   "execution_count": 8,
   "id": "78e67f88-74cb-4ed4-88cd-1d94638015fa",
   "metadata": {},
   "outputs": [
    {
     "data": {
      "text/plain": [
       "[100, 20, 30, 40, -50]"
      ]
     },
     "execution_count": 8,
     "metadata": {},
     "output_type": "execute_result"
    }
   ],
   "source": [
    "l[-1]=-50\n",
    "l"
   ]
  },
  {
   "cell_type": "code",
   "execution_count": 9,
   "id": "40126471-254f-4866-b4fb-426fd42f28ff",
   "metadata": {},
   "outputs": [
    {
     "data": {
      "text/plain": [
       "[100, 20, 30, 40, -50]"
      ]
     },
     "execution_count": 9,
     "metadata": {},
     "output_type": "execute_result"
    }
   ],
   "source": [
    "l1=l.copy()\n",
    "l1"
   ]
  },
  {
   "cell_type": "code",
   "execution_count": 10,
   "id": "366248e4-f425-4cbd-b20f-bc5d65896014",
   "metadata": {},
   "outputs": [
    {
     "name": "stdout",
     "output_type": "stream",
     "text": [
      "[100, 20, 30, 40, -50]\n",
      "[100, 20, 30, 40, -50]\n"
     ]
    }
   ],
   "source": [
    "print(l)\n",
    "print(l1)"
   ]
  },
  {
   "cell_type": "code",
   "execution_count": 11,
   "id": "b11eecc1-d008-4380-85c8-86e19ea63ad1",
   "metadata": {},
   "outputs": [
    {
     "data": {
      "text/plain": [
       "True"
      ]
     },
     "execution_count": 11,
     "metadata": {},
     "output_type": "execute_result"
    }
   ],
   "source": [
    "l==l1"
   ]
  },
  {
   "cell_type": "code",
   "execution_count": 12,
   "id": "bebc1d24-e34b-4627-8ad7-24ac3bfb180d",
   "metadata": {},
   "outputs": [
    {
     "data": {
      "text/plain": [
       "False"
      ]
     },
     "execution_count": 12,
     "metadata": {},
     "output_type": "execute_result"
    }
   ],
   "source": [
    "id(l)==id(l1)"
   ]
  },
  {
   "cell_type": "code",
   "execution_count": 13,
   "id": "8fe66591-0441-4171-a3ef-6059b27de7b7",
   "metadata": {},
   "outputs": [
    {
     "data": {
      "text/plain": [
       "True"
      ]
     },
     "execution_count": 13,
     "metadata": {},
     "output_type": "execute_result"
    }
   ],
   "source": [
    "id(l)!=id(l1)"
   ]
  },
  {
   "cell_type": "code",
   "execution_count": 15,
   "id": "e2ecdbbf-baf0-4bda-b3e6-d146902467b4",
   "metadata": {},
   "outputs": [
    {
     "data": {
      "text/plain": [
       "1"
      ]
     },
     "execution_count": 15,
     "metadata": {},
     "output_type": "execute_result"
    }
   ],
   "source": [
    "l.count(20) # count=repetations"
   ]
  },
  {
   "cell_type": "code",
   "execution_count": 16,
   "id": "1730880d-8977-467e-aafb-fbf2b4ada1e8",
   "metadata": {},
   "outputs": [
    {
     "data": {
      "text/plain": [
       "[100, 20, 30, 40, -50, 20]"
      ]
     },
     "execution_count": 16,
     "metadata": {},
     "output_type": "execute_result"
    }
   ],
   "source": [
    "l.append(20)\n",
    "l"
   ]
  },
  {
   "cell_type": "code",
   "execution_count": 17,
   "id": "a1a0826c-5734-4da7-aa35-ec828b4f061b",
   "metadata": {},
   "outputs": [
    {
     "data": {
      "text/plain": [
       "2"
      ]
     },
     "execution_count": 17,
     "metadata": {},
     "output_type": "execute_result"
    }
   ],
   "source": [
    "l.count(20)"
   ]
  },
  {
   "cell_type": "code",
   "execution_count": 19,
   "id": "b5406eb9-06b4-46c5-8b61-625d7dbbe13f",
   "metadata": {},
   "outputs": [
    {
     "data": {
      "text/plain": [
       "[100, 20, 30, 40, -50]"
      ]
     },
     "execution_count": 19,
     "metadata": {},
     "output_type": "execute_result"
    }
   ],
   "source": [
    "l1"
   ]
  },
  {
   "cell_type": "code",
   "execution_count": 24,
   "id": "7e4964d4-9534-4986-81c3-f2dd5e8d4d09",
   "metadata": {},
   "outputs": [
    {
     "data": {
      "text/plain": [
       "[]"
      ]
     },
     "execution_count": 24,
     "metadata": {},
     "output_type": "execute_result"
    }
   ],
   "source": [
    "l1.clear() # clears the list\n",
    "l1"
   ]
  },
  {
   "cell_type": "code",
   "execution_count": 22,
   "id": "28ba72d3-577d-478f-aa35-42c7ef00cd01",
   "metadata": {},
   "outputs": [
    {
     "data": {
      "text/plain": [
       "[]"
      ]
     },
     "execution_count": 22,
     "metadata": {},
     "output_type": "execute_result"
    }
   ],
   "source": [
    "l1"
   ]
  },
  {
   "cell_type": "code",
   "execution_count": 26,
   "id": "71cb6872-f8d0-47f6-b07a-8076fc8a45f4",
   "metadata": {},
   "outputs": [
    {
     "ename": "NameError",
     "evalue": "name 'l1' is not defined",
     "output_type": "error",
     "traceback": [
      "\u001b[1;31m---------------------------------------------------------------------------\u001b[0m",
      "\u001b[1;31mNameError\u001b[0m                                 Traceback (most recent call last)",
      "Cell \u001b[1;32mIn[26], line 1\u001b[0m\n\u001b[1;32m----> 1\u001b[0m \u001b[38;5;28;01mdel\u001b[39;00m l1\n\u001b[0;32m      2\u001b[0m l1\n",
      "\u001b[1;31mNameError\u001b[0m: name 'l1' is not defined"
     ]
    }
   ],
   "source": [
    "del l1 # delete variable\n",
    "l1"
   ]
  },
  {
   "cell_type": "code",
   "execution_count": 27,
   "id": "5146c403-f8af-4b2c-8e77-84785fc93715",
   "metadata": {},
   "outputs": [],
   "source": [
    "l2=[]\n"
   ]
  },
  {
   "cell_type": "code",
   "execution_count": 28,
   "id": "d2c6a9f3-2b37-42ec-9cd1-dd5ebf212ace",
   "metadata": {},
   "outputs": [
    {
     "data": {
      "text/plain": [
       "[9, 'nit', True, (1+2j), 9.3]"
      ]
     },
     "execution_count": 28,
     "metadata": {},
     "output_type": "execute_result"
    }
   ],
   "source": [
    "l2.append(9)\n",
    "l2.append('nit')\n",
    "l2.append(True)\n",
    "l2.append(1+2j)\n",
    "l2.append(9.3)\n",
    "l2"
   ]
  },
  {
   "cell_type": "code",
   "execution_count": 29,
   "id": "f0f1b217-b81b-4450-ba85-287aecdbb70e",
   "metadata": {},
   "outputs": [
    {
     "name": "stdout",
     "output_type": "stream",
     "text": [
      "[100, 20, 30, 40, -50, 20]\n",
      "[9, 'nit', True, (1+2j), 9.3]\n"
     ]
    }
   ],
   "source": [
    "print(l)\n",
    "print(l2)"
   ]
  },
  {
   "cell_type": "code",
   "execution_count": 30,
   "id": "9cfdd138-da24-4d08-890f-64403df7dd9c",
   "metadata": {},
   "outputs": [
    {
     "data": {
      "text/plain": [
       "0"
      ]
     },
     "execution_count": 30,
     "metadata": {},
     "output_type": "execute_result"
    }
   ],
   "source": [
    "l.index(100)"
   ]
  },
  {
   "cell_type": "code",
   "execution_count": 31,
   "id": "7d5a6bdd-80a4-4952-b622-e0de8a7989b8",
   "metadata": {},
   "outputs": [
    {
     "data": {
      "text/plain": [
       "1"
      ]
     },
     "execution_count": 31,
     "metadata": {},
     "output_type": "execute_result"
    }
   ],
   "source": [
    "l.index(20)"
   ]
  },
  {
   "cell_type": "code",
   "execution_count": 32,
   "id": "a7d324ab-686e-4fc2-a168-b56bcb8a2c71",
   "metadata": {},
   "outputs": [
    {
     "data": {
      "text/plain": [
       "'nit'"
      ]
     },
     "execution_count": 32,
     "metadata": {},
     "output_type": "execute_result"
    }
   ],
   "source": [
    "l2[1]"
   ]
  },
  {
   "cell_type": "code",
   "execution_count": 35,
   "id": "9037c3f2-1059-47a3-a553-e3f5ad17801c",
   "metadata": {},
   "outputs": [
    {
     "data": {
      "text/plain": [
       "'n'"
      ]
     },
     "execution_count": 35,
     "metadata": {},
     "output_type": "execute_result"
    }
   ],
   "source": [
    "l2[1][0] #nested indexing - index inside an indexing"
   ]
  },
  {
   "cell_type": "code",
   "execution_count": 34,
   "id": "dea6ee25-93b9-49e7-bceb-e5be796f3236",
   "metadata": {},
   "outputs": [
    {
     "data": {
      "text/plain": [
       "'t'"
      ]
     },
     "execution_count": 34,
     "metadata": {},
     "output_type": "execute_result"
    }
   ],
   "source": [
    "l2[1][2]"
   ]
  },
  {
   "cell_type": "code",
   "execution_count": 37,
   "id": "01c4dc8a-1f83-4e53-8ef5-ef3fdff2658b",
   "metadata": {},
   "outputs": [
    {
     "name": "stdout",
     "output_type": "stream",
     "text": [
      "nit\n"
     ]
    }
   ],
   "source": [
    "print(l2[1])"
   ]
  },
  {
   "cell_type": "code",
   "execution_count": 38,
   "id": "d8cc5e04-0638-4107-9b59-f00b259fabb2",
   "metadata": {},
   "outputs": [
    {
     "name": "stdout",
     "output_type": "stream",
     "text": [
      "n\n",
      "i\n",
      "t\n"
     ]
    }
   ],
   "source": [
    "print(l2[1][0])\n",
    "print(l2[1][1])\n",
    "print(l2[1][2])"
   ]
  },
  {
   "cell_type": "code",
   "execution_count": 39,
   "id": "56b863cb-6e01-45b8-a1bd-6c0d285f13b8",
   "metadata": {},
   "outputs": [
    {
     "data": {
      "text/plain": [
       "[100, 20, 30, 40, -50, 20]"
      ]
     },
     "execution_count": 39,
     "metadata": {},
     "output_type": "execute_result"
    }
   ],
   "source": [
    "l[:]"
   ]
  },
  {
   "cell_type": "code",
   "execution_count": 40,
   "id": "133fedf6-a42e-47c7-9aa6-6f17ae68d813",
   "metadata": {},
   "outputs": [
    {
     "data": {
      "text/plain": [
       "[40, -50, 20]"
      ]
     },
     "execution_count": 40,
     "metadata": {},
     "output_type": "execute_result"
    }
   ],
   "source": [
    "l[3:]"
   ]
  },
  {
   "cell_type": "code",
   "execution_count": 41,
   "id": "0b4ae038-a267-4cce-94da-34a3af8277ff",
   "metadata": {},
   "outputs": [
    {
     "data": {
      "text/plain": [
       "[100, 20, 30, 40, -50, 20]"
      ]
     },
     "execution_count": 41,
     "metadata": {},
     "output_type": "execute_result"
    }
   ],
   "source": [
    "l[:10]"
   ]
  },
  {
   "cell_type": "code",
   "execution_count": 42,
   "id": "30634f9e-2b18-4727-b8fa-7378e086a9f9",
   "metadata": {},
   "outputs": [
    {
     "data": {
      "text/plain": [
       "[100, 40]"
      ]
     },
     "execution_count": 42,
     "metadata": {},
     "output_type": "execute_result"
    }
   ],
   "source": [
    "l[0:8:3]"
   ]
  },
  {
   "cell_type": "code",
   "execution_count": 43,
   "id": "d88c7b2b-56c7-4dd3-8117-e2e3fcdb4707",
   "metadata": {},
   "outputs": [
    {
     "data": {
      "text/plain": [
       "[9, 'nit', True, (1+2j), 9.3]"
      ]
     },
     "execution_count": 43,
     "metadata": {},
     "output_type": "execute_result"
    }
   ],
   "source": [
    "l2"
   ]
  },
  {
   "cell_type": "code",
   "execution_count": 44,
   "id": "0b719b14-1489-4828-afa3-444c1ea94e46",
   "metadata": {},
   "outputs": [
    {
     "data": {
      "text/plain": [
       "['nit', (1+2j)]"
      ]
     },
     "execution_count": 44,
     "metadata": {},
     "output_type": "execute_result"
    }
   ],
   "source": [
    "l2[1:6:2]"
   ]
  },
  {
   "cell_type": "code",
   "execution_count": 45,
   "id": "620a77fc-75f8-4a1c-95ca-338098427011",
   "metadata": {},
   "outputs": [
    {
     "data": {
      "text/plain": [
       "[100, 20, 30, 40, -50, 20]"
      ]
     },
     "execution_count": 45,
     "metadata": {},
     "output_type": "execute_result"
    }
   ],
   "source": [
    "l"
   ]
  },
  {
   "cell_type": "code",
   "execution_count": 48,
   "id": "808f9dc2-c301-4f81-a0d0-5a71b2b2d99c",
   "metadata": {},
   "outputs": [
    {
     "data": {
      "text/plain": [
       "[100, 20, 25, 25, 30, 40, -50, 20]"
      ]
     },
     "execution_count": 48,
     "metadata": {},
     "output_type": "execute_result"
    }
   ],
   "source": [
    "l"
   ]
  },
  {
   "cell_type": "code",
   "execution_count": 49,
   "id": "ea452978-3d0a-40f4-9e2b-af24b344c45b",
   "metadata": {},
   "outputs": [
    {
     "data": {
      "text/plain": [
       "[100, 10, 20, 30, 40, -50, 20, 2]"
      ]
     },
     "execution_count": 49,
     "metadata": {},
     "output_type": "execute_result"
    }
   ],
   "source": [
    "l1=[100,10,20,30,40,-50,20,2]\n",
    "l1"
   ]
  },
  {
   "cell_type": "code",
   "execution_count": 50,
   "id": "4fd0ba42-0198-4049-97cf-19134ab8c718",
   "metadata": {},
   "outputs": [
    {
     "ename": "ValueError",
     "evalue": "2 is not in list",
     "output_type": "error",
     "traceback": [
      "\u001b[1;31m---------------------------------------------------------------------------\u001b[0m",
      "\u001b[1;31mValueError\u001b[0m                                Traceback (most recent call last)",
      "Cell \u001b[1;32mIn[50], line 1\u001b[0m\n\u001b[1;32m----> 1\u001b[0m l1\u001b[38;5;241m.\u001b[39mindex(\u001b[38;5;241m2\u001b[39m,\u001b[38;5;241m15\u001b[39m)\n\u001b[0;32m      2\u001b[0m l1\n",
      "\u001b[1;31mValueError\u001b[0m: 2 is not in list"
     ]
    }
   ],
   "source": [
    "l1.index(2,15)\n",
    "l1"
   ]
  },
  {
   "cell_type": "code",
   "execution_count": 52,
   "id": "a62e537a-be70-4cd8-bf29-c766c2814c9f",
   "metadata": {},
   "outputs": [
    {
     "data": {
      "text/plain": [
       "[100, 10, 15, 15, 20, 30, 40, -50, 20, 2]"
      ]
     },
     "execution_count": 52,
     "metadata": {},
     "output_type": "execute_result"
    }
   ],
   "source": [
    "l1.insert(2,15) # inserts a value\n",
    "l1             # 2 is the index and 15 is the value"
   ]
  },
  {
   "cell_type": "code",
   "execution_count": 53,
   "id": "0593ce12-105b-4d16-a2eb-33d288eafeb5",
   "metadata": {},
   "outputs": [
    {
     "data": {
      "text/plain": [
       "[100, 20, 25, 25, 30, 40, -50, 20]"
      ]
     },
     "execution_count": 53,
     "metadata": {},
     "output_type": "execute_result"
    }
   ],
   "source": [
    "l"
   ]
  },
  {
   "cell_type": "code",
   "execution_count": 54,
   "id": "0770ea43-e30a-4522-8886-75fa9423699e",
   "metadata": {},
   "outputs": [
    {
     "data": {
      "text/plain": [
       "20"
      ]
     },
     "execution_count": 54,
     "metadata": {},
     "output_type": "execute_result"
    }
   ],
   "source": [
    "l.pop()"
   ]
  },
  {
   "cell_type": "code",
   "execution_count": 55,
   "id": "f2dbcd42-45c2-4596-bc5d-b12e7a7303d4",
   "metadata": {},
   "outputs": [
    {
     "data": {
      "text/plain": [
       "[100, 20, 25, 25, 30, 40, -50]"
      ]
     },
     "execution_count": 55,
     "metadata": {},
     "output_type": "execute_result"
    }
   ],
   "source": [
    "l"
   ]
  },
  {
   "cell_type": "code",
   "execution_count": 56,
   "id": "231f0116-9a66-4ad6-a554-0bb106b3b04f",
   "metadata": {},
   "outputs": [
    {
     "ename": "IndexError",
     "evalue": "pop index out of range",
     "output_type": "error",
     "traceback": [
      "\u001b[1;31m---------------------------------------------------------------------------\u001b[0m",
      "\u001b[1;31mIndexError\u001b[0m                                Traceback (most recent call last)",
      "Cell \u001b[1;32mIn[56], line 1\u001b[0m\n\u001b[1;32m----> 1\u001b[0m l\u001b[38;5;241m.\u001b[39mpop(\u001b[38;5;241m25\u001b[39m)\n",
      "\u001b[1;31mIndexError\u001b[0m: pop index out of range"
     ]
    }
   ],
   "source": [
    "l.pop(25)"
   ]
  },
  {
   "cell_type": "code",
   "execution_count": 57,
   "id": "b6194909-b580-423a-8c4c-9fa1eade9dbf",
   "metadata": {},
   "outputs": [
    {
     "data": {
      "text/plain": [
       "25"
      ]
     },
     "execution_count": 57,
     "metadata": {},
     "output_type": "execute_result"
    }
   ],
   "source": [
    "l.pop(2)"
   ]
  },
  {
   "cell_type": "code",
   "execution_count": 58,
   "id": "cc3919ea-fdd1-4f88-8c7b-636d2537dae6",
   "metadata": {},
   "outputs": [
    {
     "data": {
      "text/plain": [
       "[100, 20, 25, 30, 40, -50]"
      ]
     },
     "execution_count": 58,
     "metadata": {},
     "output_type": "execute_result"
    }
   ],
   "source": [
    "l"
   ]
  },
  {
   "cell_type": "code",
   "execution_count": 59,
   "id": "e8a1b50a-ac8e-4b34-95eb-abad5c618033",
   "metadata": {},
   "outputs": [
    {
     "data": {
      "text/plain": [
       "[9, 'nit', True, (1+2j), 9.3]"
      ]
     },
     "execution_count": 59,
     "metadata": {},
     "output_type": "execute_result"
    }
   ],
   "source": [
    "l2"
   ]
  },
  {
   "cell_type": "code",
   "execution_count": 60,
   "id": "2cff1261-6796-4dce-827b-6d2fa6cf8608",
   "metadata": {},
   "outputs": [
    {
     "data": {
      "text/plain": [
       "(1+2j)"
      ]
     },
     "execution_count": 60,
     "metadata": {},
     "output_type": "execute_result"
    }
   ],
   "source": [
    "l2.pop(3)"
   ]
  },
  {
   "cell_type": "code",
   "execution_count": 61,
   "id": "fbfc2cc8-6d09-49be-b811-d1c8e5e52849",
   "metadata": {},
   "outputs": [
    {
     "data": {
      "text/plain": [
       "[9, 'nit', True, 9.3]"
      ]
     },
     "execution_count": 61,
     "metadata": {},
     "output_type": "execute_result"
    }
   ],
   "source": [
    "l2"
   ]
  },
  {
   "cell_type": "code",
   "execution_count": 66,
   "id": "15d8ca14-bfed-4721-8bf7-6aafb17d8662",
   "metadata": {},
   "outputs": [],
   "source": [
    "del l2"
   ]
  },
  {
   "cell_type": "code",
   "execution_count": 72,
   "id": "67a443ae-7a18-429c-a76c-f8c7792b5f66",
   "metadata": {},
   "outputs": [
    {
     "data": {
      "text/plain": [
       "[100, 10, 15, 15, 20, 30, 40, -50, 20, 2]"
      ]
     },
     "execution_count": 72,
     "metadata": {},
     "output_type": "execute_result"
    }
   ],
   "source": [
    "l1\n"
   ]
  },
  {
   "cell_type": "code",
   "execution_count": 9,
   "id": "336eb63d-fd1e-4205-b6d0-1eec927bdeb7",
   "metadata": {},
   "outputs": [],
   "source": [
    "l2=[9,'nit',True,9.3]"
   ]
  },
  {
   "cell_type": "code",
   "execution_count": 75,
   "id": "92a3a243-30f9-45dc-9bef-b78d8aab752a",
   "metadata": {},
   "outputs": [
    {
     "data": {
      "text/plain": [
       "[9, 'nit', True, 9.3]"
      ]
     },
     "execution_count": 75,
     "metadata": {},
     "output_type": "execute_result"
    }
   ],
   "source": [
    "l2"
   ]
  },
  {
   "cell_type": "code",
   "execution_count": 10,
   "id": "95177645-7855-44c5-9b55-fa8d7fd3bedd",
   "metadata": {},
   "outputs": [
    {
     "data": {
      "text/plain": [
       "[9, True, 9.3]"
      ]
     },
     "execution_count": 10,
     "metadata": {},
     "output_type": "execute_result"
    }
   ],
   "source": [
    "l2.remove('nit')\n",
    "l2"
   ]
  },
  {
   "cell_type": "code",
   "execution_count": 3,
   "id": "6c3b7972-6e70-48dc-b8bb-e47ee7d50f91",
   "metadata": {},
   "outputs": [
    {
     "data": {
      "text/plain": [
       "[100, 10, 15, 20, 30, 40]"
      ]
     },
     "execution_count": 3,
     "metadata": {},
     "output_type": "execute_result"
    }
   ],
   "source": [
    "l=[100,10,15,20,30,40]\n",
    "l"
   ]
  },
  {
   "cell_type": "code",
   "execution_count": 4,
   "id": "2358d499-4790-4cc9-aaca-3adbe1f3c4c0",
   "metadata": {},
   "outputs": [
    {
     "data": {
      "text/plain": [
       "True"
      ]
     },
     "execution_count": 4,
     "metadata": {},
     "output_type": "execute_result"
    }
   ],
   "source": [
    "100 in l"
   ]
  },
  {
   "cell_type": "code",
   "execution_count": 5,
   "id": "5b3d356a-483d-4208-a505-025c60810e17",
   "metadata": {},
   "outputs": [
    {
     "data": {
      "text/plain": [
       "False"
      ]
     },
     "execution_count": 5,
     "metadata": {},
     "output_type": "execute_result"
    }
   ],
   "source": [
    "1000 in l"
   ]
  },
  {
   "cell_type": "code",
   "execution_count": 6,
   "id": "c8681cfd-38b8-4236-81ac-eca088b02f4a",
   "metadata": {},
   "outputs": [
    {
     "name": "stdout",
     "output_type": "stream",
     "text": [
      "100\n",
      "10\n",
      "15\n",
      "20\n",
      "30\n",
      "40\n"
     ]
    }
   ],
   "source": [
    "for i in l:\n",
    "    print(i)"
   ]
  },
  {
   "cell_type": "code",
   "execution_count": 8,
   "id": "d8741e94-23be-48d5-a631-8b5ebf7142e1",
   "metadata": {},
   "outputs": [
    {
     "name": "stdout",
     "output_type": "stream",
     "text": [
      "(0, 100)\n",
      "(1, 10)\n",
      "(2, 15)\n",
      "(3, 20)\n",
      "(4, 30)\n",
      "(5, 40)\n"
     ]
    }
   ],
   "source": [
    "for i in enumerate(l):\n",
    "    print(i) # gives count of elements beside"
   ]
  },
  {
   "cell_type": "code",
   "execution_count": 11,
   "id": "1cad80c1-dd74-41bd-8a8d-a354029326dd",
   "metadata": {},
   "outputs": [
    {
     "name": "stdout",
     "output_type": "stream",
     "text": [
      "[100, 10, 15, 20, 30, 40]\n",
      "[9, True, 9.3]\n"
     ]
    }
   ],
   "source": [
    "print (l)\n",
    "print(l2)"
   ]
  },
  {
   "cell_type": "code",
   "execution_count": 13,
   "id": "25ad1686-6c51-4571-aff7-eb1c5ec62351",
   "metadata": {},
   "outputs": [
    {
     "data": {
      "text/plain": [
       "[9, True, 9.3, 100, 10, 15, 20, 30, 40, 100, 10, 15, 20, 30, 40]"
      ]
     },
     "execution_count": 13,
     "metadata": {},
     "output_type": "execute_result"
    }
   ],
   "source": [
    "l2.extend(l)\n",
    "l2"
   ]
  },
  {
   "cell_type": "code",
   "execution_count": 14,
   "id": "336b18cb-ea21-4ce6-9b98-48deb1e2c6ef",
   "metadata": {},
   "outputs": [
    {
     "data": {
      "text/plain": [
       "[100, 10, 15, 20, 30, 40]"
      ]
     },
     "execution_count": 14,
     "metadata": {},
     "output_type": "execute_result"
    }
   ],
   "source": [
    "l\n"
   ]
  },
  {
   "cell_type": "code",
   "execution_count": 17,
   "id": "ea7fdc69-54cc-4efb-95e5-77c565cc3a82",
   "metadata": {},
   "outputs": [
    {
     "data": {
      "text/plain": [
       "[10, 15, 20, 30, 40, 100]"
      ]
     },
     "execution_count": 17,
     "metadata": {},
     "output_type": "execute_result"
    }
   ],
   "source": [
    "l.sort()\n",
    "l"
   ]
  },
  {
   "cell_type": "code",
   "execution_count": 18,
   "id": "b84adcaa-9f29-4b6c-aa77-98d2638f56bc",
   "metadata": {},
   "outputs": [
    {
     "data": {
      "text/plain": [
       "[100, 40, 30, 20, 15, 10]"
      ]
     },
     "execution_count": 18,
     "metadata": {},
     "output_type": "execute_result"
    }
   ],
   "source": [
    "l.sort(reverse=True)\n",
    "l"
   ]
  },
  {
   "cell_type": "code",
   "execution_count": 20,
   "id": "660a3984-0d55-47ff-b84b-ad08c07f7118",
   "metadata": {},
   "outputs": [
    {
     "data": {
      "text/plain": [
       "[1, 'nit', 2, 'same']"
      ]
     },
     "execution_count": 20,
     "metadata": {},
     "output_type": "execute_result"
    }
   ],
   "source": [
    "l3=[1,'nit',2,'same']\n",
    "l3"
   ]
  },
  {
   "cell_type": "code",
   "execution_count": 22,
   "id": "b9087173-b591-4b7f-96e0-c1849df66db4",
   "metadata": {},
   "outputs": [
    {
     "ename": "TypeError",
     "evalue": "'<' not supported between instances of 'str' and 'int'",
     "output_type": "error",
     "traceback": [
      "\u001b[1;31m---------------------------------------------------------------------------\u001b[0m",
      "\u001b[1;31mTypeError\u001b[0m                                 Traceback (most recent call last)",
      "Cell \u001b[1;32mIn[22], line 1\u001b[0m\n\u001b[1;32m----> 1\u001b[0m l3\u001b[38;5;241m.\u001b[39msort()\n\u001b[0;32m      2\u001b[0m l3\n",
      "\u001b[1;31mTypeError\u001b[0m: '<' not supported between instances of 'str' and 'int'"
     ]
    }
   ],
   "source": [
    "l3.sort()\n",
    "l3"
   ]
  },
  {
   "cell_type": "code",
   "execution_count": 23,
   "id": "34719445-ef83-4983-8584-3f1a45adf68e",
   "metadata": {},
   "outputs": [
    {
     "data": {
      "text/plain": [
       "['a', 'z', 'n', 'p']"
      ]
     },
     "execution_count": 23,
     "metadata": {},
     "output_type": "execute_result"
    }
   ],
   "source": [
    "l4=['a','z','n','p']\n",
    "l4"
   ]
  },
  {
   "cell_type": "code",
   "execution_count": 25,
   "id": "05b0b6e7-5485-44b4-b4b5-796f242755a4",
   "metadata": {},
   "outputs": [
    {
     "data": {
      "text/plain": [
       "['a', 'n', 'p', 'z']"
      ]
     },
     "execution_count": 25,
     "metadata": {},
     "output_type": "execute_result"
    }
   ],
   "source": [
    "l4.sort()\n",
    "l4"
   ]
  },
  {
   "cell_type": "code",
   "execution_count": 28,
   "id": "9015080e-6880-4723-a59e-19c3d3f8c834",
   "metadata": {},
   "outputs": [
    {
     "data": {
      "text/plain": [
       "['a', 'n', 'p', 'z']"
      ]
     },
     "execution_count": 28,
     "metadata": {},
     "output_type": "execute_result"
    }
   ],
   "source": [
    "\n",
    "l4"
   ]
  },
  {
   "cell_type": "code",
   "execution_count": 31,
   "id": "b397316c-bf2e-4ce8-b20b-6fbf7f1ce6bd",
   "metadata": {},
   "outputs": [
    {
     "data": {
      "text/plain": [
       "['z', 'p', 'n', 'a']"
      ]
     },
     "execution_count": 31,
     "metadata": {},
     "output_type": "execute_result"
    }
   ],
   "source": [
    "l4.reverse()\n",
    "l4"
   ]
  },
  {
   "cell_type": "markdown",
   "id": "f9b3932e-411d-4cb7-a483-075c25173f1c",
   "metadata": {},
   "source": [
    "# All and ANY"
   ]
  },
  {
   "cell_type": "code",
   "execution_count": 32,
   "id": "b21c2ce3-3d25-4d6e-93b5-fcee0fc1c749",
   "metadata": {},
   "outputs": [
    {
     "data": {
      "text/plain": [
       "[100, 40, 30, 20, 15, 10]"
      ]
     },
     "execution_count": 32,
     "metadata": {},
     "output_type": "execute_result"
    }
   ],
   "source": [
    "l=[100,40,30,20,15,10]\n",
    "l"
   ]
  },
  {
   "cell_type": "code",
   "execution_count": 33,
   "id": "008c7122-2cb8-419f-88f8-e5506838a73f",
   "metadata": {},
   "outputs": [
    {
     "data": {
      "text/plain": [
       "True"
      ]
     },
     "execution_count": 33,
     "metadata": {},
     "output_type": "execute_result"
    }
   ],
   "source": [
    "all(l)"
   ]
  },
  {
   "cell_type": "code",
   "execution_count": 34,
   "id": "a1b74af5-7d6a-45c1-8b62-39ffd21cf393",
   "metadata": {},
   "outputs": [
    {
     "data": {
      "text/plain": [
       "True"
      ]
     },
     "execution_count": 34,
     "metadata": {},
     "output_type": "execute_result"
    }
   ],
   "source": [
    "any(l)"
   ]
  },
  {
   "cell_type": "code",
   "execution_count": 35,
   "id": "e3d44f71-7bbb-423d-b5f3-f85445ad5719",
   "metadata": {},
   "outputs": [
    {
     "data": {
      "text/plain": [
       "[100, 40, 30, 20, 15, 10, 0]"
      ]
     },
     "execution_count": 35,
     "metadata": {},
     "output_type": "execute_result"
    }
   ],
   "source": [
    "l.append(0)\n",
    "l"
   ]
  },
  {
   "cell_type": "code",
   "execution_count": 36,
   "id": "ae6b9ff6-ca5c-41e7-9e67-c0ebed8dd516",
   "metadata": {},
   "outputs": [
    {
     "data": {
      "text/plain": [
       "False"
      ]
     },
     "execution_count": 36,
     "metadata": {},
     "output_type": "execute_result"
    }
   ],
   "source": [
    "all(l)"
   ]
  },
  {
   "cell_type": "code",
   "execution_count": 37,
   "id": "bc41a5b7-51fd-4496-958f-07b379ff5841",
   "metadata": {},
   "outputs": [
    {
     "data": {
      "text/plain": [
       "True"
      ]
     },
     "execution_count": 37,
     "metadata": {},
     "output_type": "execute_result"
    }
   ],
   "source": [
    "any(l)"
   ]
  }
 ],
 "metadata": {
  "kernelspec": {
   "display_name": "Python [conda env:base] *",
   "language": "python",
   "name": "conda-base-py"
  },
  "language_info": {
   "codemirror_mode": {
    "name": "ipython",
    "version": 3
   },
   "file_extension": ".py",
   "mimetype": "text/x-python",
   "name": "python",
   "nbconvert_exporter": "python",
   "pygments_lexer": "ipython3",
   "version": "3.12.7"
  }
 },
 "nbformat": 4,
 "nbformat_minor": 5
}
